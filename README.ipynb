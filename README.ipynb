{
 "cells": [
  {
   "cell_type": "markdown",
   "metadata": {},
   "source": [
    "# Activity 03: Python as a Calculator\n",
    "\n",
    "https://asu-compmethodsphysics-phy494.github.io/ASU-PHY494//2021/01/26/03_HelloWorld/#activity-python-as-a-calculator\n",
    "\n",
    "Create a file `solution.py` in which you evaluate the following mathematical expressions and assign them to variables `a`, `b`, ...\n",
    "\n",
    "\\begin{align}\n",
    "a &= -1 + 2  \\\\\n",
    "b &= 102 - 201  \\\\\n",
    "c &= 12345678987654321 \\times 9876543210123456789 \\\\\n",
    "d &= 3/2\\\\\n",
    "e &= \\frac{1}{1 - 0.9^2}\\\\\n",
    "f &= 1 + \\frac{2}{1} + \\frac{2^2}{1\\cdot2} + \\frac{2^3}{1\\cdot2\\cdot3} +\n",
    "\\frac{2^4}{1 \\cdot 2\\cdot3\\cdot4}\\\\\n",
    "g &= -3^4\\\\\n",
    "h &= 2 - 5.5\\times 10^{-7}\\\\\n",
    "i &= 1.672621898\\times 10^{-27} \\times (3\\times10^8)^2\\\\\n",
    "j &= \\sqrt{2}\\\\\n",
    "k &= \\sqrt{-1}\\\\\n",
    "l &= (1 + 2i) + (-2 + i)\\\\\n",
    "m &= \\frac{1 + 2i}{2 - i}\\\\\n",
    "\\end{align}\n"
   ]
  },
  {
   "cell_type": "markdown",
   "metadata": {},
   "source": [
    "## Testing\n",
    "\n",
    "Run the tests locally with\n",
    "```bash\n",
    "pytest\n",
    "```\n",
    "In order to perform autograding, `git push` your changes.\n"
   ]
  },
  {
   "cell_type": "markdown",
   "metadata": {},
   "source": [
    "## Example\n",
    "\n",
    "The first line in `solution.py` should be"
   ]
  },
  {
   "cell_type": "code",
   "execution_count": null,
   "metadata": {},
   "outputs": [],
   "source": [
    "a = -1 + 2"
   ]
  }
 ],
 "metadata": {
  "kernelspec": {
   "display_name": "Python 3",
   "language": "python",
   "name": "python3"
  },
  "language_info": {
   "codemirror_mode": {
    "name": "ipython",
    "version": 3
   },
   "file_extension": ".py",
   "mimetype": "text/x-python",
   "name": "python",
   "nbconvert_exporter": "python",
   "pygments_lexer": "ipython3",
   "version": "3.6.7"
  }
 },
 "nbformat": 4,
 "nbformat_minor": 2
}
